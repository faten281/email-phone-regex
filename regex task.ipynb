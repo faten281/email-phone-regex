{
 "cells": [
  {
   "cell_type": "markdown",
   "id": "1a0c39be",
   "metadata": {},
   "source": [
    "Regular Expression match phones and emails"
   ]
  },
  {
   "cell_type": "code",
   "execution_count": 26,
   "id": "db966aeb",
   "metadata": {},
   "outputs": [],
   "source": [
    "phones_emails_txt = open('phones-emails.txt', 'r').readlines()"
   ]
  },
  {
   "cell_type": "code",
   "execution_count": 27,
   "id": "00843326",
   "metadata": {},
   "outputs": [
    {
     "data": {
      "text/plain": [
       "['01092279230\\n',\n",
       " '01192279222\\n',\n",
       " '01292279999\\n',\n",
       " '01592279555\\n',\n",
       " '02222222222\\n',\n",
       " '03435444555\\n',\n",
       " '+201092279230\\n',\n",
       " '+239911111111\\n',\n",
       " '00244444444446\\n',\n",
       " '00201092279230\\n',\n",
       " '0129223456799\\n',\n",
       " 'faten@gmail.com\\n',\n",
       " 'faten28@hotmail.com\\n',\n",
       " 'faten33@yahoo.com\\n',\n",
       " 'fatensamy28@std.mans.edu.eg\\n',\n",
       " 'Fatenelsaied\\n']"
      ]
     },
     "execution_count": 27,
     "metadata": {},
     "output_type": "execute_result"
    }
   ],
   "source": [
    "phones_emails_txt"
   ]
  },
  {
   "cell_type": "code",
   "execution_count": 28,
   "id": "6d6fd22c",
   "metadata": {},
   "outputs": [],
   "source": [
    "txt = \" \".join(phones_emails_txt)"
   ]
  },
  {
   "cell_type": "code",
   "execution_count": 29,
   "id": "e69d8fc7",
   "metadata": {},
   "outputs": [
    {
     "data": {
      "text/plain": [
       "'01092279230\\n 01192279222\\n 01292279999\\n 01592279555\\n 02222222222\\n 03435444555\\n +201092279230\\n +239911111111\\n 00244444444446\\n 00201092279230\\n 0129223456799\\n faten@gmail.com\\n faten28@hotmail.com\\n faten33@yahoo.com\\n fatensamy28@std.mans.edu.eg\\n Fatenelsaied\\n'"
      ]
     },
     "execution_count": 29,
     "metadata": {},
     "output_type": "execute_result"
    }
   ],
   "source": [
    "txt"
   ]
  },
  {
   "cell_type": "code",
   "execution_count": 30,
   "id": "f44c2bb6",
   "metadata": {},
   "outputs": [],
   "source": [
    "import re"
   ]
  },
  {
   "cell_type": "code",
   "execution_count": 49,
   "id": "5911120e",
   "metadata": {},
   "outputs": [
    {
     "data": {
      "text/plain": [
       "['faten@gmail.com',\n",
       " 'faten28@hotmail.com',\n",
       " 'faten33@yahoo.com',\n",
       " 'fatensamy28@std.mans.edu.eg']"
      ]
     },
     "execution_count": 49,
     "metadata": {},
     "output_type": "execute_result"
    }
   ],
   "source": [
    "re.findall(r'\\w+@[gmail|hotmail|yahoo]+\\.com|\\w+@std.mans.edu.eg', txt)  #match emails"
   ]
  },
  {
   "cell_type": "code",
   "execution_count": 33,
   "id": "3dd95060",
   "metadata": {},
   "outputs": [
    {
     "data": {
      "text/plain": [
       "['01092279230',\n",
       " '01192279222',\n",
       " '01292279999',\n",
       " '01592279555',\n",
       " '+201092279230',\n",
       " '00201092279230']"
      ]
     },
     "execution_count": 33,
     "metadata": {},
     "output_type": "execute_result"
    }
   ],
   "source": [
    "re.findall(r'01[0125]\\d{8}\\b|00201[0125]\\d{8}\\b|\\+201[0125]\\d{8}\\b',txt)"
   ]
  },
  {
   "cell_type": "code",
   "execution_count": null,
   "id": "ab395eba",
   "metadata": {},
   "outputs": [],
   "source": []
  }
 ],
 "metadata": {
  "kernelspec": {
   "display_name": "Python 3 (ipykernel)",
   "language": "python",
   "name": "python3"
  },
  "language_info": {
   "codemirror_mode": {
    "name": "ipython",
    "version": 3
   },
   "file_extension": ".py",
   "mimetype": "text/x-python",
   "name": "python",
   "nbconvert_exporter": "python",
   "pygments_lexer": "ipython3",
   "version": "3.9.12"
  }
 },
 "nbformat": 4,
 "nbformat_minor": 5
}
